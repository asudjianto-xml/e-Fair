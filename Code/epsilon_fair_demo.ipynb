{
  "cells": [
    {
      "cell_type": "code",
      "metadata": {},
      "execution_count": null,
      "outputs": [],
      "source": [
        "import run_demo\n",
        "run_demo.experiment_estimators(seed=3)\n",
        "import pandas as pd\n",
        "from IPython.display import display, Image\n",
        "display(pd.read_csv('outputs/estimator_values.csv'))\n",
        "display(Image('outputs/estimator_scatter.png'))"
      ]
    }
  ],
  "metadata": {
    "kernelspec": {
      "display_name": "Python 3",
      "language": "python",
      "name": "python3"
    }
  },
  "nbformat": 4,
  "nbformat_minor": 5
}